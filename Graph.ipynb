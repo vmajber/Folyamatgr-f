{
 "cells": [
  {
   "cell_type": "markdown",
   "metadata": {},
   "source": [
    "# Folyamatkiegyensúlyozási feladat"
   ]
  },
  {
   "cell_type": "markdown",
   "metadata": {},
   "source": [
    "Bővítmények importálása és a gráf felépítése, melyekbe belekerülnek a súlyok is."
   ]
  },
  {
   "cell_type": "code",
   "execution_count": 5,
   "metadata": {},
   "outputs": [],
   "source": [
    "import networkx as nx\n",
    "import matplotlib.pyplot as plt"
   ]
  },
  {
   "cell_type": "code",
   "execution_count": 120,
   "metadata": {},
   "outputs": [
    {
     "data": {
      "image/png": "[encoded data removed]",
      "text/plain": [
       "<Figure size 432x288 with 1 Axes>"
      ]
     },
     "metadata": {},
     "output_type": "display_data"
    },
    {
     "data": {
      "text/plain": [
       "<Figure size 432x288 with 0 Axes>"
      ]
     },
     "metadata": {},
     "output_type": "display_data"
    }
   ],
   "source": [
    "DG=nx.DiGraph()\n",
    "DG.add_weighted_edges_from([(\"A\",\"B\",3),\n",
    "                            (\"A\",\"C\",3),\n",
    "                            (\"B\",\"D\",2.4),\n",
    "                            (\"C\",\"D\",1.6),\n",
    "                            (\"C\",\"F\",1.6),\n",
    "                            (\"D\",\"G\",2),\n",
    "                            (\"D\",\"H\",2),\n",
    "                            (\"E\",\"F\",3.5),\n",
    "                            (\"F\",\"H\",2.5),\n",
    "                            (\"F\",\"I\",2.5),\n",
    "                            (\"F\",\"J\",2.5),\n",
    "                            (\"G\",\"K\",2),\n",
    "                            (\"H\",\"K\",4),\n",
    "                            (\"I\",\"K\",3),\n",
    "                            (\"J\",\"K\",1)])\n",
    "#pos = nx.spring_layout(DG)\n",
    "\n",
    "nx.draw(DG,pos, with_labels=True,font_size=10)\n",
    "\n",
    "fig1 = plt.gcf()\n",
    "plt.show()\n",
    "plt.draw()\n",
    "fig1.savefig('test.png', dpi=100)"
   ]
  },
  {
   "cell_type": "markdown",
   "metadata": {},
   "source": [
    "A súlyokat külön megfeleltetjük a feladatoknak a későbbi munkaállomások létrehozásához:"
   ]
  },
  {
   "cell_type": "code",
   "execution_count": 110,
   "metadata": {},
   "outputs": [
    {
     "name": "stdout",
     "output_type": "stream",
     "text": [
      "A gráf összes élét összeadva megkapjuk az átfutaási időt: 27.0 perc\n"
     ]
    }
   ],
   "source": [
    "folyamatok = {'A': 3,\n",
    "        'B': 2.4,\n",
    "        'C': 1.6,\n",
    "        'D': 2,\n",
    "        'E': 3.5,\n",
    "        'F': 2.5,\n",
    "        'G': 2,\n",
    "        'H': 4,\n",
    "        'I': 3,\n",
    "        'J': 1,\n",
    "        'K':2}\n",
    "\n",
    "weights=[folyamatok[i]for i in folyamatok] #összeadjuk a folyamatok idejét\n",
    "\n",
    "átfutásiidő=sum(weights)\n",
    "print( \"A gráf összes élét összeadva megkapjuk az átfutaási időt:\", átfutásiidő, \"perc\")"
   ]
  },
  {
   "cell_type": "code",
   "execution_count": 127,
   "metadata": {},
   "outputs": [
    {
     "name": "stdout",
     "output_type": "stream",
     "text": [
      "6.0 ütemidő\n",
      "4 ciklusidő\n"
     ]
    }
   ],
   "source": [
    "#A kérdés:\n",
    "\n",
    "ütemidő = 8*60/80\n",
    "print(ütemidő, \"ütemidő\")\n",
    "\n",
    "ciklusidő = max(weights)\n",
    "print(ciklusidő, \"ciklusidő\")\n",
    "# 6 perc telik el két termék előállítása között miminum ha 8 óra alatt elvárunk 80 terméket"
   ]
  },
  {
   "cell_type": "code",
   "execution_count": 122,
   "metadata": {},
   "outputs": [
    {
     "name": "stdout",
     "output_type": "stream",
     "text": [
      "4.5\n"
     ]
    }
   ],
   "source": [
    "#\n",
    "print(átfutásiidő/ütemidő) # =4.5 felfelé kell kerekíteni\n",
    "num_munkallomas = 5  #hiszen 38,6 percnyi munkát kell elvégezni"
   ]
  },
  {
   "cell_type": "markdown",
   "metadata": {},
   "source": [
    "D feladat első esete: \n",
    "              -az elsődleges szabály a leghosszabb műveleti idő, másodlagos a legtöbb követő szabály "
   ]
  },
  {
   "cell_type": "code",
   "execution_count": 123,
   "metadata": {},
   "outputs": [
    {
     "name": "stdout",
     "output_type": "stream",
     "text": [
      "1. munkaállomás E : 3.5 perc\n",
      "2. munkaállomás A , B : 5.4 perc\n",
      "3. munkaállomás C , F, J : 5.1 perc\n",
      "4. munkaállomás I , D : 5 perc\n",
      "5. munkaállomás H , G : 6 perc\n",
      "6. munkaállomás K : 2 perc\n"
     ]
    }
   ],
   "source": [
    "#első munkaállomás: a leghosszabb műveleti időt az E folyamat igényi:\n",
    "első = [folyamatok[\"E\"]]\n",
    "második = [folyamatok[\"A\"], folyamatok[\"B\"]]\n",
    "harmadik = [folyamatok[\"C\"], folyamatok[\"F\"],folyamatok[\"J\"]]\n",
    "negyedik = [folyamatok[\"I\"], folyamatok[\"D\"]]\n",
    "ötödik = [folyamatok[\"H\"], folyamatok[\"G\"]]\n",
    "hatodik = [ folyamatok[\"K\"]]\n",
    "\n",
    "\n",
    "print(\"1. munkaállomás E :\", sum(első), \"perc\")\n",
    "print(\"2. munkaállomás A , B :\", sum(második), \"perc\")\n",
    "print(\"3. munkaállomás C , F, J :\", sum(harmadik), \"perc\")\n",
    "print(\"4. munkaállomás I , D :\", sum(negyedik), \"perc\")\n",
    "print(\"5. munkaállomás H , G :\", sum(ötödik), \"perc\")\n",
    "print(\"6. munkaállomás K :\", sum(hatodik), \"perc\")\n"
   ]
  },
  {
   "cell_type": "markdown",
   "metadata": {},
   "source": [
    "D feladat második esete: az elsődleges szabály a legtöbb követő, másodlagos a leghosszabb műveleti idő"
   ]
  },
  {
   "cell_type": "code",
   "execution_count": 124,
   "metadata": {},
   "outputs": [
    {
     "name": "stdout",
     "output_type": "stream",
     "text": [
      "1. munkaállomás A, C : 4.6 perc\n",
      "2. munkaállomás E , F : 6.0 perc\n",
      "3. munkaállomás I , B : 5.4 perc\n",
      "4. munkaállomás D , H : 6 perc\n",
      "5. munkaállomás G , J, K : 5 perc\n"
     ]
    }
   ],
   "source": [
    "első = [folyamatok[\"A\"],folyamatok[\"C\"]]\n",
    "második = [folyamatok[\"E\"],folyamatok[\"F\"]]\n",
    "harmadik = [folyamatok[\"I\"], folyamatok[\"B\"]]\n",
    "negyedik = [folyamatok[\"D\"], folyamatok[\"H\"]]\n",
    "ötödik = [folyamatok[\"G\"], folyamatok[\"J\"], folyamatok[\"K\"]]\n",
    "\n",
    "print(\"1. munkaállomás A, C :\", sum(első), \"perc\")\n",
    "print(\"2. munkaállomás E , F :\", sum(második), \"perc\")\n",
    "print(\"3. munkaállomás I , B :\", sum(harmadik), \"perc\")\n",
    "print(\"4. munkaállomás D , H :\", sum(negyedik), \"perc\")\n",
    "print(\"5. munkaállomás G , J, K :\", sum(ötödik), \"perc\")"
   ]
  },
  {
   "cell_type": "markdown",
   "metadata": {},
   "source": [
    "e feladat:"
   ]
  },
  {
   "cell_type": "code",
   "execution_count": 128,
   "metadata": {},
   "outputs": [
    {
     "name": "stdout",
     "output_type": "stream",
     "text": [
      "75.0 %\n",
      "90.0 %\n"
     ]
    }
   ],
   "source": [
    "#mindkét esetben a legmagasabb idő a munkaállomásoknál a maximum 6 perc így az ütemidővel is szorozhatunk.\n",
    "\n",
    "első_munkaall = 6\n",
    "print(átfutásiidő/(első_munkaall*ütemidő)*100 , \"%\")\n",
    "\n",
    "masodik_munkaall=5\n",
    "print(átfutásiidő/(masodik_munkaall*ütemidő)*100 , \"%\")"
   ]
  },
  {
   "cell_type": "markdown",
   "metadata": {},
   "source": [
    "Hatékányobb láthatóan a második eset\n"
   ]
  }
 ],
 "metadata": {
  "kernelspec": {
   "display_name": "Python 3",
   "language": "python",
   "name": "python3"
  },
  "language_info": {
   "codemirror_mode": {
    "name": "ipython",
    "version": 3
   },
   "file_extension": ".py",
   "mimetype": "text/x-python",
   "name": "python",
   "nbconvert_exporter": "python",
   "pygments_lexer": "ipython3",
   "version": "3.7.3"
  }
 },
 "nbformat": 4,
 "nbformat_minor": 2
}
